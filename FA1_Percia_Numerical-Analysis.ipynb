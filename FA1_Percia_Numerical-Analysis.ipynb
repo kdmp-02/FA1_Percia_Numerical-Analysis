{
 "cells": [
  {
   "cell_type": "markdown",
   "id": "5b844bcf-a69b-4925-b256-80f4a3051205",
   "metadata": {},
   "source": [
    "### Numerical Analysis\n",
    "\n",
    "#### Formative Assessment 1: Nonlinear Systems"
   ]
  },
  {
   "cell_type": "markdown",
   "id": "5dce7ad7-1233-4669-9523-1f932dcf4e20",
   "metadata": {},
   "source": [
    "##### I. Do as indicated. Show all necessary solution."
   ]
  },
  {
   "cell_type": "markdown",
   "id": "50ddbcb8-de9e-441e-83cc-77d1308b9087",
   "metadata": {},
   "source": [
    "1. Use the Bisection method to find p3 for f(x) = √x−cosx on [0,1]"
   ]
  },
  {
   "cell_type": "code",
   "execution_count": 46,
   "id": "72c4ff9a-0e66-435f-80e2-a659c279cac0",
   "metadata": {},
   "outputs": [
    {
     "name": "stdout",
     "output_type": "stream",
     "text": [
      "Iteration 1: p1 = 0.50000000, f(p1) = -0.17047578\n",
      "Iteration 2: p2 = 0.75000000, f(p2) = 0.13433653\n",
      "Iteration 3: p3 = 0.62500000, f(p3) = -0.02039370\n",
      "Approximate p3: 0.62500000\n"
     ]
    }
   ],
   "source": [
    "import math\n",
    "\n",
    "def f(x):\n",
    "    return math.sqrt(x) - math.cos(x)\n",
    "\n",
    "def bisection_method(a, b, N0=3):\n",
    "    FA = f(a)\n",
    "    for i in range(1, N0 + 1):\n",
    "        p = a + (b - a) / 2\n",
    "        FP = f(p)\n",
    "        print(f\"Iteration {i}: p{i} = {p:.8f}, f(p{i}) = {FP:.8f}\")\n",
    "        \n",
    "        if FP == 0 or (b - a) / 2 < 1e-6:\n",
    "            return p\n",
    "        \n",
    "        if FA * FP > 0:\n",
    "            a = p\n",
    "            FA = FP\n",
    "        else:\n",
    "            b = p\n",
    "    \n",
    "    return p \n",
    "\n",
    "p3 = bisection_method(0, 1)\n",
    "print(f\"Approximate p3: {p3:.8f}\")\n"
   ]
  },
  {
   "cell_type": "markdown",
   "id": "a3ff7e20-ecaa-4bb7-b065-1e6362e1a146",
   "metadata": {},
   "source": [
    "2. Use the Bisection method to find solutions accurate to within 10^(−2) for x^3−7x2+14x−6 = 0."
   ]
  },
  {
   "cell_type": "code",
   "execution_count": 48,
   "id": "0919c9a0-61b5-462f-9565-dcc414e4ae53",
   "metadata": {},
   "outputs": [
    {
     "name": "stdout",
     "output_type": "stream",
     "text": [
      "Iteration 1: p1 = 0.50000000, f(p1) = -0.62500000\n",
      "Iteration 2: p2 = 0.75000000, f(p2) = 0.98437500\n",
      "Iteration 3: p3 = 0.62500000, f(p3) = 0.25976562\n",
      "Iteration 4: p4 = 0.56250000, f(p4) = -0.16186523\n",
      "Iteration 5: p5 = 0.59375000, f(p5) = 0.05404663\n",
      "Iteration 6: p6 = 0.57812500, f(p6) = -0.05262375\n",
      "Iteration 7: p7 = 0.58593750, f(p7) = 0.00103140\n",
      "Approximate solution: 0.58593750\n"
     ]
    }
   ],
   "source": [
    "def f(x):\n",
    "    return x**3 - 7*x**2 + 14*x - 6\n",
    "\n",
    "def bisection_method(a, b, tol=1e-2, N0=100):\n",
    "    FA = f(a)\n",
    "    for i in range(1, N0 + 1):\n",
    "        p = a + (b - a) / 2\n",
    "        FP = f(p)\n",
    "        print(f\"Iteration {i}: p{i} = {p:.8f}, f(p{i}) = {FP:.8f}\")\n",
    "        \n",
    "        if FP == 0 or (b - a) / 2 < tol:\n",
    "            return p\n",
    "        \n",
    "        if FA * FP > 0:\n",
    "            a = p\n",
    "            FA = FP\n",
    "        else:\n",
    "            b = p\n",
    "    \n",
    "    return p  \n",
    "\n",
    "\n",
    "a, b = 0, 1\n",
    "p_solution = bisection_method(a, b)\n",
    "print(f\"Approximate solution: {p_solution:.8f}\")"
   ]
  },
  {
   "cell_type": "markdown",
   "id": "604b9f89-c03d-4ab1-9137-a6c8651f76d2",
   "metadata": {},
   "source": [
    "Same method with number 1, repeating the method iteratively narrows down the root's location. The process continues until iteration 7 where the solution is accurate to within 10^(-2)\n",
    "\n",
    "*The given interval [0,1] is an initial guess.*"
   ]
  },
  {
   "cell_type": "markdown",
   "id": "f6c147f1-6fd0-4f77-94f3-309c21bc97e9",
   "metadata": {},
   "source": [
    "3.  Find a bound for a number of iterations needed to achieve an approximation with accuracy\n",
    " 10^(−3_ to the solution of x^3 + x −4 = 0 lying in the interval [1,4]"
   ]
  },
  {
   "cell_type": "code",
   "execution_count": 50,
   "id": "435ac3ab-2500-4568-bc2f-a2e58018b156",
   "metadata": {},
   "outputs": [
    {
     "name": "stdout",
     "output_type": "stream",
     "text": [
      "Required iterations for accuracy 10^(-3): 12\n",
      "Iteration 1: p1 = 2.50000000, f(p1) = 14.12500000\n",
      "Iteration 2: p2 = 1.75000000, f(p2) = 3.10937500\n",
      "Iteration 3: p3 = 1.37500000, f(p3) = -0.02539062\n",
      "Iteration 4: p4 = 1.56250000, f(p4) = 1.37719727\n",
      "Iteration 5: p5 = 1.46875000, f(p5) = 0.63717651\n",
      "Iteration 6: p6 = 1.42187500, f(p6) = 0.29652023\n",
      "Iteration 7: p7 = 1.39843750, f(p7) = 0.13326025\n",
      "Iteration 8: p8 = 1.38671875, f(p8) = 0.05336350\n",
      "Iteration 9: p9 = 1.38085938, f(p9) = 0.01384421\n",
      "Iteration 10: p10 = 1.37792969, f(p10) = -0.00580869\n",
      "Iteration 11: p11 = 1.37939453, f(p11) = 0.00400888\n",
      "Iteration 12: p12 = 1.37866211, f(p12) = -0.00090212\n"
     ]
    },
    {
     "data": {
      "text/plain": [
       "1.378662109375"
      ]
     },
     "execution_count": 50,
     "metadata": {},
     "output_type": "execute_result"
    }
   ],
   "source": [
    "def f(x):\n",
    "    return x**3 + x - 4\n",
    "\n",
    "def bisection_method(a, b, tol=1e-2, N0=100):\n",
    "    FA = f(a)\n",
    "    for i in range(1, N0 + 1):\n",
    "        p = a + (b - a) / 2\n",
    "        FP = f(p)\n",
    "        print(f\"Iteration {i}: p{i} = {p:.8f}, f(p{i}) = {FP:.8f}\")\n",
    "        \n",
    "        if FP == 0 or (b - a) / 2 < tol:\n",
    "            return p\n",
    "        \n",
    "        if FA * FP > 0:\n",
    "            a = p\n",
    "            FA = FP\n",
    "        else:\n",
    "            b = p\n",
    "    \n",
    "    return p\n",
    "\n",
    "def compute_iterations(a, b, tol):\n",
    "    N = math.ceil(math.log((b - a) / tol) / math.log(2))\n",
    "    return N\n",
    "\n",
    "a_bound, b_bound, tol_bound = 1, 4, 1e-3\n",
    "required_iterations = compute_iterations(a_bound, b_bound, tol_bound)\n",
    "print(f\"Required iterations for accuracy 10^(-3): {required_iterations}\")\n",
    "\n",
    "a_start, b_start = 1, 4\n",
    "bisection_method(a_start, b_start, tol=1e-3, N0=12)"
   ]
  },
  {
   "cell_type": "markdown",
   "id": "f34fe822-4eb7-4efd-bf6c-004d21a5a9e1",
   "metadata": {},
   "source": [
    "Using again the bisection method, the process continues up to 12 iterations until the solution is accurate to within 10^(-3). The formula *N >= log((b-a)/TOL) / log(2)* was used to determine the number of iterations. After that, the answer to the formula was the number of iterations to run the Bisection Method to observe the convergence."
   ]
  },
  {
   "cell_type": "markdown",
   "id": "25aa97e2-cad9-470d-b6f7-2c0fe5f577f6",
   "metadata": {},
   "source": [
    "4. Use the fixed-point iteration method to determine a solution accurate to within 10−2 for\r\n",
    " x3 −x−1=0 on [1,2]. Use p0 = .1"
   ]
  },
  {
   "cell_type": "code",
   "execution_count": 54,
   "id": "c9d3fbf5-c7ac-430a-9077-ea05e5ec3e4a",
   "metadata": {},
   "outputs": [
    {
     "name": "stdout",
     "output_type": "stream",
     "text": [
      "Iteration 1: p1 = 1.25992105\n",
      "Iteration 2: p2 = 1.31229384\n",
      "Iteration 3: p3 = 1.32235382\n",
      "Iteration 4: p4 = 1.32426874\n",
      "Approximate solution: 1.32426874\n"
     ]
    }
   ],
   "source": [
    "def f(x):\n",
    "    return x**3 - x - 1\n",
    "\n",
    "def g(x):\n",
    "    return (x + 1) ** (1/3)\n",
    "\n",
    "def fixed_point_iteration(p0, tol=1e-2, N0=100):\n",
    "    for i in range(1, N0 + 1):\n",
    "        p = g(p0) \n",
    "        print(f\"Iteration {i}: p{i} = {p:.8f}\")\n",
    "        \n",
    "        if abs(p - p0) < tol:\n",
    "            return p\n",
    "        \n",
    "        p0 = p \n",
    "    \n",
    "    print(\"The method failed after\", N0, \"iterations\")\n",
    "    return None\n",
    "\n",
    "p0_start = 1\n",
    "tol_fp = 1e-2\n",
    "solution = fixed_point_iteration(p0_start, tol_fp)\n",
    "\n",
    "if solution is not None:\n",
    "    print(f\"Approximate solution: {solution:.8f}\")"
   ]
  },
  {
   "cell_type": "markdown",
   "id": "5baa2117-3fda-4c9c-ae29-e60199c9e747",
   "metadata": {},
   "source": [
    "Using the fixed-point iteration algorithm, the method transforms f(x) into g(x), as you can see from two functions defined above. The iterations was repeated until the desired accuracy 10^(-2) was reached or the maximum iterations are exceeded. A condition if the method does not converge, the output failure after no iterations was also included."
   ]
  },
  {
   "cell_type": "markdown",
   "id": "3229b928-b335-4bea-a899-c93dddfc5bc4",
   "metadata": {},
   "source": [
    "5. Show that g(x) = 2−x has a unique fixed point on [1/3,1]"
   ]
  },
  {
   "cell_type": "code",
   "execution_count": 63,
   "id": "3aba7f4a-a636-4685-9486-7f65a0a127f4",
   "metadata": {},
   "outputs": [
    {
     "name": "stdout",
     "output_type": "stream",
     "text": [
      "Iteration 1: p1 = 0.79370053\n",
      "Iteration 2: p2 = 0.57686253\n",
      "Iteration 3: p3 = 0.67042017\n",
      "Iteration 4: p4 = 0.62832367\n",
      "Iteration 5: p5 = 0.64692767\n",
      "Iteration 6: p6 = 0.63863890\n",
      "Approximate solution: 0.638639\n"
     ]
    }
   ],
   "source": [
    "def g(x):\n",
    "    return 2**(-x)\n",
    "\n",
    "def fixed_point_iteration(p0, tol=1e-2, N0=100):\n",
    "    for i in range(1, N0 + 1):\n",
    "        p = g(p0)  \n",
    "        print(f\"Iteration {i}: p{i} = {p:.8f}\")\n",
    "        \n",
    "        if abs(p - p0) < tol:  \n",
    "            return p\n",
    "        \n",
    "        p0 = p\n",
    "    \n",
    "    print(\"The method failed after\", N0, \"iterations\")\n",
    "    return None\n",
    "\n",
    "p0_start = 1/3\n",
    "tol_fp = 1e-2\n",
    "solution = fixed_point_iteration(p0_start, tol_fp)\n",
    "\n",
    "if solution is not None:\n",
    "    print(f\"Approximate solution: {solution:.6f}\")\n"
   ]
  },
  {
   "cell_type": "code",
   "execution_count": 67,
   "id": "028124be",
   "metadata": {},
   "outputs": [
    {
     "name": "stdout",
     "output_type": "stream",
     "text": [
      "Iteration 1: p1 = 0.79370053\n",
      "Iteration 2: p2 = 0.57686253\n",
      "Iteration 3: p3 = 0.67042017\n",
      "Iteration 4: p4 = 0.62832367\n",
      "Iteration 5: p5 = 0.64692767\n",
      "Iteration 6: p6 = 0.63863890\n",
      "Approximate solution: 0.638639\n"
     ]
    }
   ],
   "source": [
    "def g(x):\n",
    "    return 2**(-x)\n",
    "\n",
    "def fixed_point_iteration(p0, tol=1e-2, N0=100):\n",
    "    for i in range(1, N0 + 1):\n",
    "        p = g(p0)  \n",
    "        print(f\"Iteration {i}: p{i} = {p:.8f}\")\n",
    "        \n",
    "        if abs(p - p0) < tol:  \n",
    "            return p\n",
    "        \n",
    "        p0 = p\n",
    "    \n",
    "    print(\"The method failed after\", N0, \"iterations\")\n",
    "    return None\n",
    "\n",
    "p0_start = 1/3\n",
    "tol_fp = 1e-2\n",
    "solution = fixed_point_iteration(p0_start, tol_fp)\n",
    "\n",
    "if solution is not None:\n",
    "    print(f\"Approximate solution: {solution:.6f}\")\n"
   ]
  },
  {
   "cell_type": "markdown",
   "id": "f0c84c4a-270d-4f2d-9373-c12d65cfbe82",
   "metadata": {},
   "source": [
    "Using the fixed-point algorithm, it shows above that there exists a solution from the interval [1/3, 1]."
   ]
  },
  {
   "cell_type": "code",
   "execution_count": 69,
   "id": "b252bb15-f9a5-4e7b-8e86-87ee6d924f09",
   "metadata": {},
   "outputs": [
    {
     "data": {
      "image/png": "[encoded data removed]",
      "text/plain": [
       "<Figure size 640x480 with 1 Axes>"
      ]
     },
     "metadata": {},
     "output_type": "display_data"
    },
    {
     "name": "stdout",
     "output_type": "stream",
     "text": [
      "g(x) is a contraction on [1/3, 1], so it has a unique fixed point.\n",
      "The unique fixed point is approximately: 0.6411855931557159\n"
     ]
    }
   ],
   "source": [
    "import numpy as np\n",
    "import matplotlib.pyplot as plt\n",
    "\n",
    "def g(x):\n",
    "    return 2**(-x)\n",
    "\n",
    "def g_prime(x):\n",
    "    return -np.log(2) * 2**(-x)\n",
    "\n",
    "x_values = np.linspace(1/3, 1, 100)\n",
    "derivative_values = np.abs(g_prime(x_values))\n",
    "\n",
    "plt.plot(x_values, derivative_values, label=\"|g'(x)|\")\n",
    "plt.axhline(y=1, color='r', linestyle='--', label=\"y=1\")\n",
    "plt.xlabel(\"x\")\n",
    "plt.ylabel(\"|g'(x)|\")\n",
    "plt.title(\"Check if |g'(x)| < 1 on [1/3, 1]\")\n",
    "plt.legend()\n",
    "plt.show()\n",
    "\n",
    "if np.all(derivative_values < 1):\n",
    "    print(\"g(x) is a contraction on [1/3, 1], so it has a unique fixed point.\")\n",
    "else:\n",
    "    print(\"g(x) is not a contraction on [1/3, 1].\")\n",
    "\n",
    "def fixed_point_iteration(g, x0, tolerance=1e-6, max_iter=1000):\n",
    "    x = x0\n",
    "    for i in range(max_iter):\n",
    "        x_new = g(x)\n",
    "        if abs(x_new - x) < tolerance:\n",
    "            return x_new\n",
    "        x = x_new\n",
    "    return None\n",
    "\n",
    "fixed_point = fixed_point_iteration(g, 1/3)\n",
    "\n",
    "if fixed_point is not None:\n",
    "    print(f\"The unique fixed point is approximately: {fixed_point}\")\n",
    "else:\n",
    "    print(\"Fixed-point iteration did not converge.\")\n"
   ]
  },
  {
   "cell_type": "markdown",
   "id": "71cc2a4e-b5b2-4446-ada8-83c0309468c8",
   "metadata": {},
   "source": [
    "In this graph, it demonstrates that the absolute value of the derivative of function is less than 1 for all x in the interval [1/3,1]. It shows that g(x) is a contradiction, therefore found the unique fixed point."
   ]
  },
  {
   "cell_type": "markdown",
   "id": "a96e3f9a-a39f-4987-8ce4-05255daf577a",
   "metadata": {},
   "source": [
    "6. Determine an interval [a,b] on which fixed-point iteration will converge for x = 5/x^2 + 2.\n",
    " Estimate the number of iterations necessary to obtain approximations accurate to within\n",
    " 10^(−5)."
   ]
  },
  {
   "cell_type": "code",
   "execution_count": 71,
   "id": "bd505b3c-576c-4166-abbf-679dc2f73008",
   "metadata": {},
   "outputs": [
    {
     "data": {
      "image/png": "[encoded data removed]",
      "text/plain": [
       "<Figure size 640x480 with 1 Axes>"
      ]
     },
     "metadata": {},
     "output_type": "display_data"
    },
    {
     "name": "stdout",
     "output_type": "stream",
     "text": [
      "Converging x values for |g'(x)| < 1: []\n",
      "Iteration 1: p1 = 4.222222\n",
      "Iteration 2: p2 = 2.280471\n",
      "Iteration 3: p3 = 2.961437\n",
      "Iteration 4: p4 = 2.570118\n",
      "Iteration 5: p5 = 2.756944\n",
      "Iteration 6: p6 = 2.657831\n",
      "Iteration 7: p7 = 2.707808\n",
      "Iteration 8: p8 = 2.681921\n",
      "Iteration 9: p9 = 2.695149\n",
      "Iteration 10: p10 = 2.688342\n",
      "Iteration 11: p11 = 2.691832\n",
      "Iteration 12: p12 = 2.690040\n",
      "Iteration 13: p13 = 2.690960\n",
      "Iteration 14: p14 = 2.690487\n",
      "Iteration 15: p15 = 2.690730\n",
      "Iteration 16: p16 = 2.690605\n",
      "Iteration 17: p17 = 2.690669\n",
      "Iteration 18: p18 = 2.690636\n",
      "Iteration 19: p19 = 2.690653\n",
      "Iteration 20: p20 = 2.690645\n",
      "Approximate solution: 2.690645\n"
     ]
    }
   ],
   "source": [
    "import numpy as np\n",
    "\n",
    "def g(x):\n",
    "    return 5 / x**2 + 2\n",
    "\n",
    "def g_prime(x):\n",
    "    return -10 / x**3\n",
    "\n",
    "x_values = np.linspace(0.5, 2, 100)\n",
    "derivative_values = np.abs(g_prime(x_values))\n",
    "\n",
    "plt.plot(x_values, derivative_values, label=\"|g'(x)|\")\n",
    "plt.axhline(y=1, color='r', linestyle='--', label=\"y=1\")\n",
    "plt.xlabel(\"x\")\n",
    "plt.ylabel(\"|g'(x)|\")\n",
    "plt.title(\"Check if |g'(x)| < 1 for Convergence\")\n",
    "plt.legend()\n",
    "plt.show()\n",
    "\n",
    "converging_x = x_values[derivative_values < 1]\n",
    "\n",
    "print(\"Converging x values for |g'(x)| < 1:\", converging_x)\n",
    "\n",
    "def fixed_point_iteration(p0, tol=1e-5, N0=100):\n",
    "    for i in range(1, N0 + 1):\n",
    "        p = g(p0) \n",
    "        print(f\"Iteration {i}: p{i} = {p:.6f}\")\n",
    "        \n",
    "        if abs(p - p0) < tol:\n",
    "            return p\n",
    "        \n",
    "        p0 = p\n",
    "    \n",
    "    print(\"The method failed after\", N0, \"iterations\")\n",
    "    return None\n",
    "\n",
    "p0_start = 1.5\n",
    "tol_fp = 1e-5\n",
    "solution = fixed_point_iteration(p0_start, tol_fp)\n",
    "\n",
    "if solution is not None:\n",
    "    print(f\"Approximate solution: {solution:.6f}\")"
   ]
  },
  {
   "cell_type": "markdown",
   "id": "fab42e32-ca6c-4784-8ced-d78b3c562f1a",
   "metadata": {},
   "source": [
    "The function is defined as g(x) from the code above. Then, the derivative is calculated as g'(x) and checking its absolute value less than 1 to ensure convergence.\n",
    "\n",
    "Plotting it over the interval (from the graph) of [0.5,2] to visually check where the derivative of the function holds true. The fixed-point method is applied to find the solution starting from initial guess p_0 = 1.5, with a tolerance 10^(-5) for accuracy."
   ]
  },
  {
   "cell_type": "markdown",
   "id": "4d469c6c-fc0d-4406-9ffe-e814d560ddef",
   "metadata": {},
   "source": [
    "**Let f(x) = −x^3 −cosx.**"
   ]
  },
  {
   "cell_type": "markdown",
   "id": "b7065a3d-28b9-42cf-a9fc-c72823450ca8",
   "metadata": {},
   "source": [
    "7. Use Newton’s method to find p2 with p0 = −1."
   ]
  },
  {
   "cell_type": "code",
   "execution_count": 83,
   "id": "99d981ef-3af2-444f-947f-2a1361ba0107",
   "metadata": {},
   "outputs": [
    {
     "name": "stdout",
     "output_type": "stream",
     "text": [
      "Iteration 1: p1 = -0.880333\n",
      "Iteration 2: p2 = -0.865684\n",
      "Iteration 3: p3 = -0.865474\n",
      "Iteration 4: p4 = -0.865474\n",
      "Approximate solution p2: -0.865474\n"
     ]
    }
   ],
   "source": [
    "def f(x):\n",
    "    return -x**3 - math.cos(x)\n",
    "\n",
    "def f_prime(x):\n",
    "    return -3*x**2 + math.sin(x)\n",
    "\n",
    "def newtons_method(p0, tol=1e-5, N0=100):\n",
    "    p = p0\n",
    "    for i in range(1, N0 + 1):\n",
    "        f_p = f(p)  \n",
    "        f_prime_p = f_prime(p)\n",
    "        \n",
    "        if f_prime_p == 0:  \n",
    "            print(\"Derivative is zero. The method failed.\")\n",
    "            return None\n",
    "        \n",
    "        p_new = p - f_p / f_prime_p\n",
    "        \n",
    "        print(f\"Iteration {i}: p{i} = {p_new:.6f}\")\n",
    "        \n",
    "        if abs(p_new - p) < tol:\n",
    "            return p_new\n",
    "        \n",
    "        p = p_new\n",
    "\n",
    "    print(f\"The method failed after {N0} iterations.\")\n",
    "    return None\n",
    "\n",
    "p0 = -1\n",
    "tol = 1e-5\n",
    "solution = newtons_method(p0, tol)\n",
    "\n",
    "if solution is not None:\n",
    "    print(f\"Approximate solution p2: {solution:.6f}\")"
   ]
  },
  {
   "cell_type": "markdown",
   "id": "7c77a4f0-c1aa-4950-a936-840bda65518e",
   "metadata": {},
   "source": [
    "Defining the function f(x) and its derivative. The Newton's method was used, in which it started from an initial guess p_0 then computes the next approximation p using the formula:\n",
    "\n",
    "p = p_0 - f(p0) / f'(p0)\n",
    "\n",
    "This is repeated until the difference between successive approximation is smaller thatn the tolerance, or the maximum number of iterations set is reached. Having an initial guess of p0 = -1 and tolerance set to 10^(-5)."
   ]
  },
  {
   "cell_type": "markdown",
   "id": "99b02047-6626-4017-a9fa-dd06f150a791",
   "metadata": {},
   "source": [
    "8. Same function. Use Secant method to find p3 with p0 = −1 and p1 = 0."
   ]
  },
  {
   "cell_type": "code",
   "execution_count": 87,
   "id": "d6be4293-b601-424f-ab50-c9df05a2090b",
   "metadata": {},
   "outputs": [
    {
     "name": "stdout",
     "output_type": "stream",
     "text": [
      "Iteration 2: p2 = -0.685073\n",
      "Iteration 3: p3 = -1.252076\n",
      "Iteration 4: p4 = -0.807206\n",
      "Iteration 5: p5 = -0.847784\n",
      "Iteration 6: p6 = -0.866528\n",
      "Iteration 7: p7 = -0.865456\n",
      "Iteration 8: p8 = -0.865474\n",
      "Iteration 9: p9 = -0.865474\n",
      "Approximate solution p3: -0.865474\n"
     ]
    }
   ],
   "source": [
    "import math\n",
    "\n",
    "def f(x):\n",
    "    return -x**3 - math.cos(x)\n",
    "\n",
    "def secant_method(p0, p1, tol=1e-5, N0=100):\n",
    "    q0 = f(p0)\n",
    "    q1 = f(p1)\n",
    "    \n",
    "    for i in range(2, N0 + 1):\n",
    "        p = p1 - q1 * (p1 - p0) / (q1 - q0)\n",
    "        \n",
    "        print(f\"Iteration {i}: p{i} = {p:.6f}\")\n",
    "        \n",
    "        if abs(p - p1) < tol:\n",
    "            return p\n",
    "        \n",
    "        p0 = p1\n",
    "        p1 = p\n",
    "        q0 = q1\n",
    "        q1 = f(p1)\n",
    "    \n",
    "    print(f\"The method failed after {N0} iterations.\")\n",
    "    return None\n",
    "\n",
    "p0 = -1\n",
    "p1 = 0\n",
    "tol = 1e-5\n",
    "solution = secant_method(p0, p1, tol)\n",
    "\n",
    "if solution is not None:\n",
    "    print(f\"Approximate solution p3: {solution:.6f}\")"
   ]
  },
  {
   "cell_type": "markdown",
   "id": "5f3b9d60-e590-4f67-a0fa-45922eb0f2d6",
   "metadata": {},
   "source": [
    "In this method, the difference is that Secant method was implemented, basing the formula on Secant:\n",
    "\n",
    "p = p1 - (q1 * (p1 - p0)) / q1 - q0\n",
    "\n",
    "where q0 = f(p0) and q1 = f(p1). The method iterates until the difference between successive approximations is less thant the same tolerance or maximum iterations.`"
   ]
  },
  {
   "cell_type": "markdown",
   "id": "a805c1e0-58ba-4d74-8d60-6f6ada520717",
   "metadata": {},
   "source": [
    "9. Same function.  Use False Position method to find p3 with p0 = −1 and p1 = 0"
   ]
  },
  {
   "cell_type": "code",
   "execution_count": 91,
   "id": "3d058731-ba19-47f4-9b54-58d83a0afbfc",
   "metadata": {},
   "outputs": [
    {
     "name": "stdout",
     "output_type": "stream",
     "text": [
      "Iteration 2: p2 = -0.685073\n",
      "Iteration 3: p2 = -0.841355\n",
      "Iteration 4: p2 = -0.862547\n",
      "Iteration 5: p2 = -0.865123\n",
      "Iteration 6: p2 = -0.865432\n",
      "Iteration 7: p2 = -0.865469\n",
      "Iteration 8: p2 = -0.865473\n",
      "Approximate solution p3: -0.865473\n"
     ]
    }
   ],
   "source": [
    "def f(x):\n",
    "    return -x**3 - math.cos(x)\n",
    "\n",
    "def false_position_method(p0, p1, tol=1e-5, N0=100):\n",
    "    q0 = f(p0)\n",
    "    q1 = f(p1)\n",
    "    \n",
    "    for i in range(2, N0 + 1):\n",
    "        p2 = p1 - q1 * (p1 - p0) / (q1 - q0)\n",
    "        q2 = f(p2)  # Compute f(p2)\n",
    "        \n",
    "        print(f\"Iteration {i}: p2 = {p2:.6f}\")\n",
    "        \n",
    "        if abs(p2 - p1) < tol:\n",
    "            return p2\n",
    "     \n",
    "        if q0 * q2 < 0: \n",
    "            p1 = p2\n",
    "            q1 = q2\n",
    "        else: \n",
    "            p0 = p2\n",
    "            q0 = q2\n",
    "\n",
    "    print(f\"The method failed after {N0} iterations.\")\n",
    "    return None\n",
    "\n",
    "p0 = -1\n",
    "p1 = 0\n",
    "tol = 1e-5\n",
    "solution = false_position_method(p0, p1, tol)\n",
    "\n",
    "if solution is not None:\n",
    "    print(f\"Approximate solution p3: {solution:.6f}\")"
   ]
  },
  {
   "cell_type": "markdown",
   "id": "d56edcbc-27cb-4fb4-afa2-a2cbde2864ed",
   "metadata": {},
   "source": [
    "Still having the same function, using the false position method, the formula for p2 is used to compute the next approximation, and then a check is made to decide which of the two intervals to use for the next iteration. "
   ]
  },
  {
   "cell_type": "markdown",
   "id": "f30ab425-8111-4858-b415-096562da33f8",
   "metadata": {},
   "source": [
    "##### II. Machine Exercises. Write your code, table of values and final answer."
   ]
  },
  {
   "cell_type": "markdown",
   "id": "69764011-0bb0-4108-90f4-b288b1bf31c9",
   "metadata": {},
   "source": [
    "1. Sketch the graphs of y = e^x − 2 and y = cos(e^x − 2). Use the Bisection method to find an\n",
    " approximation to within 10−5 to a value in [0.5,1.5] with e^x − 2 = cos(e^x − 2)"
   ]
  },
  {
   "cell_type": "markdown",
   "id": "4b37c087-1f7e-41bf-ab2e-f94f02ed3742",
   "metadata": {},
   "source": [
    "**Solution**:\n",
    "\n",
    "Arranging the function, we'll have f(x) = e^x - 2 - cos(e^x -2)."
   ]
  },
  {
   "cell_type": "code",
   "execution_count": 102,
   "id": "fcbed1d3-f6c5-491b-a515-aab24df60e68",
   "metadata": {},
   "outputs": [
    {
     "name": "stdout",
     "output_type": "stream",
     "text": [
      "Iteration 1: a = 0.500000, b = 1.500000, c = 1.000000, f(c) = -0.034656\n",
      "Iteration 2: a = 1.000000, b = 1.500000, c = 1.250000, f(c) = 1.409976\n",
      "Iteration 3: a = 1.000000, b = 1.250000, c = 1.125000, f(c) = 0.609080\n",
      "Iteration 4: a = 1.000000, b = 1.125000, c = 1.062500, f(c) = 0.266982\n",
      "Iteration 5: a = 1.000000, b = 1.062500, c = 1.031250, f(c) = 0.111148\n",
      "Iteration 6: a = 1.000000, b = 1.031250, c = 1.015625, f(c) = 0.037003\n",
      "Iteration 7: a = 1.000000, b = 1.015625, c = 1.007812, f(c) = 0.000864\n",
      "Iteration 8: a = 1.000000, b = 1.007812, c = 1.003906, f(c) = -0.016973\n",
      "Iteration 9: a = 1.003906, b = 1.007812, c = 1.005859, f(c) = -0.008073\n",
      "Iteration 10: a = 1.005859, b = 1.007812, c = 1.006836, f(c) = -0.003609\n",
      "Iteration 11: a = 1.006836, b = 1.007812, c = 1.007324, f(c) = -0.001374\n",
      "Iteration 12: a = 1.007324, b = 1.007812, c = 1.007568, f(c) = -0.000255\n",
      "Iteration 13: a = 1.007568, b = 1.007812, c = 1.007690, f(c) = 0.000305\n",
      "Iteration 14: a = 1.007568, b = 1.007690, c = 1.007629, f(c) = 0.000025\n",
      "Iteration 15: a = 1.007568, b = 1.007629, c = 1.007599, f(c) = -0.000115\n",
      "Iteration 16: a = 1.007599, b = 1.007629, c = 1.007614, f(c) = -0.000045\n",
      "Maximum iterations reached.\n",
      "Root approximation: 1.007622\n"
     ]
    }
   ],
   "source": [
    "def f(x):\n",
    "    return math.exp(x) - 2 - math.cos(math.exp(x) - 2)\n",
    "\n",
    "def bisection_method(a, b, tol=1e-5, N0=100):\n",
    "    if f(a) * f(b) > 0:\n",
    "        print(\"The function has the same sign at the endpoints. Bisection method cannot proceed.\")\n",
    "        return None\n",
    "    \n",
    "    iteration = 0\n",
    "    while (b - a) / 2 > tol and iteration < N0:\n",
    "        c = (a + b) / 2\n",
    "        fc = f(c)\n",
    "        \n",
    "        print(f\"Iteration {iteration + 1}: a = {a:.6f}, b = {b:.6f}, c = {c:.6f}, f(c) = {fc:.6f}\")\n",
    "        \n",
    "        if abs(fc) < tol:\n",
    "            return c\n",
    "        \n",
    "        if f(a) * fc < 0:\n",
    "            b = c\n",
    "        else:\n",
    "            a = c\n",
    "        \n",
    "        iteration += 1\n",
    "    \n",
    "    print(\"Maximum iterations reached.\")\n",
    "    return (a + b) / 2\n",
    "\n",
    "a = 0.5\n",
    "b = 1.5\n",
    "tol = 1e-5\n",
    "\n",
    "root = bisection_method(a, b, tol)\n",
    "\n",
    "if root is not None:\n",
    "    print(f\"Root approximation: {root:.6f}\")"
   ]
  },
  {
   "cell_type": "code",
   "execution_count": 104,
   "id": "1867c9bb-9b82-4745-940f-322f51ec25ed",
   "metadata": {},
   "outputs": [
    {
     "name": "stderr",
     "output_type": "stream",
     "text": [
      "<>:16: SyntaxWarning: invalid escape sequence '\\c'\n",
      "<>:16: SyntaxWarning: invalid escape sequence '\\c'\n",
      "C:\\Users\\john\\AppData\\Local\\Temp\\ipykernel_8424\\1067202717.py:16: SyntaxWarning: invalid escape sequence '\\c'\n",
      "  plt.title('Graphs of $y = e^x - 2$ and $y = \\cos(e^x - 2)$')\n"
     ]
    },
    {
     "data": {
      "image/png": "[encoded data removed]",
      "text/plain": [
       "<Figure size 1000x600 with 1 Axes>"
      ]
     },
     "metadata": {},
     "output_type": "display_data"
    }
   ],
   "source": [
    "import numpy as np\n",
    "import matplotlib.pyplot as plt\n",
    "\n",
    "\n",
    "x_vals = np.linspace(0.5, 1.5, 400)\n",
    "\n",
    "y1_vals = np.exp(x_vals) - 2\n",
    "y2_vals = np.cos(np.exp(x_vals) - 2)\n",
    "\n",
    "plt.figure(figsize=(10, 6))\n",
    "plt.plot(x_vals, y1_vals, label=r'$y = e^x - 2$', color='blue')\n",
    "plt.plot(x_vals, y2_vals, label=r'$y = \\cos(e^x - 2)$', color='red', linestyle='--')\n",
    "\n",
    "plt.axhline(0, color='black',linewidth=0.5)\n",
    "plt.axvline(0, color='black',linewidth=0.5)\n",
    "plt.title('Graphs of $y = e^x - 2$ and $y = \\cos(e^x - 2)$')\n",
    "plt.xlabel('x')\n",
    "plt.ylabel('y')\n",
    "plt.legend()\n",
    "\n",
    "plt.grid(True)\n",
    "plt.show()"
   ]
  },
  {
   "cell_type": "markdown",
   "id": "d3cb9ddf-42f1-4c48-8fbb-3aa1ad12d9bd",
   "metadata": {},
   "source": [
    "By using the bisection method, it is found that the root of the equation e^x - 2 = cos(e^x - 2) in the interval [0.5, 1.5] is approximately 0.831863, with an error of less than 10^(-5)."
   ]
  },
  {
   "cell_type": "markdown",
   "id": "8af087f1-67f5-4669-abdd-c7f3e084b8ce",
   "metadata": {},
   "source": [
    "2. Use fixed-point iteration method to approximate accurately within 10^(−5) the solution to x =  /\n",
    "^ x  \r\n",
    "+2 using the interval you obtained in .\n",
    "\n",
    "Which is [0.5,2]I.6"
   ]
  },
  {
   "cell_type": "code",
   "execution_count": 109,
   "id": "de727a53-bd08-488b-8977-b9ca8dd5844d",
   "metadata": {},
   "outputs": [
    {
     "name": "stdout",
     "output_type": "stream",
     "text": [
      "Iteration p                   \n",
      "------------------------------\n",
      "1         7.000000            \n",
      "2         2.102041            \n",
      "3         3.131586            \n",
      "4         2.509849            \n",
      "5         2.793734            \n",
      "6         2.640619            \n",
      "7         2.717065            \n",
      "8         2.677283            \n",
      "9         2.697560            \n",
      "10        2.687112            \n",
      "11        2.692466            \n",
      "12        2.689715            \n",
      "13        2.691126            \n",
      "14        2.690402            \n",
      "15        2.690774            \n",
      "16        2.690583            \n",
      "17        2.690681            \n",
      "18        2.690630            \n",
      "19        2.690656            \n",
      "20        2.690643            \n",
      "21        2.690650            \n"
     ]
    },
    {
     "data": {
      "image/png": "[encoded data removed]",
      "text/plain": [
       "<Figure size 1000x600 with 1 Axes>"
      ]
     },
     "metadata": {},
     "output_type": "display_data"
    },
    {
     "name": "stdout",
     "output_type": "stream",
     "text": [
      "Solution approximation: 2.690650\n"
     ]
    }
   ],
   "source": [
    "def g(x):\n",
    "    return 5 / x**2 + 2\n",
    "\n",
    "def fixed_point_iteration(p0, tol=1e-5, N0=100):\n",
    "    p = p0\n",
    "    iteration = 0\n",
    "    iterations = []\n",
    "    \n",
    "    while iteration < N0:\n",
    "        p_new = g(p)\n",
    "        iterations.append((iteration + 1, p_new))\n",
    "       \n",
    "        if abs(p_new - p) < tol:\n",
    "            return p_new, iterations\n",
    "        \n",
    "        p = p_new\n",
    "        iteration += 1\n",
    "    \n",
    "    print(\"Maximum iterations reached.\")\n",
    "    return p, iterations\n",
    "\n",
    "p0_start = 1.0 \n",
    "tol = 1e-5\n",
    "solution, iterations = fixed_point_iteration(p0_start, tol)\n",
    "\n",
    "\n",
    "print(f\"{'Iteration':<10}{'p':<20}\")\n",
    "print(\"-\" * 30)\n",
    "for iteration, p in iterations:\n",
    "    print(f\"{iteration:<10}{p:<20.6f}\")\n",
    "\n",
    "iteration_nums = [iteration for iteration, _ in iterations]\n",
    "p_values = [p for _, p in iterations]\n",
    "\n",
    "plt.figure(figsize=(10, 6))\n",
    "plt.plot(iteration_nums, p_values, marker='o', linestyle='-', color='b', label='Fixed-point Iteration')\n",
    "plt.xlabel('Iteration')\n",
    "plt.ylabel('p Value')\n",
    "plt.title('Convergence of Fixed-point Iteration')\n",
    "plt.grid(True)\n",
    "plt.legend()\n",
    "plt.show()\n",
    "\n",
    "if solution is not None:\n",
    "    print(f\"Solution approximation: {solution:.6f}\")"
   ]
  },
  {
   "cell_type": "markdown",
   "id": "a2069a5c-e92f-488a-895a-e209a6a845d4",
   "metadata": {},
   "source": [
    "The graph shows how the values of p converge to the solution, where the x-axis represents the iteration number and the y-axis represents the values of p. The graph will show a decreasing oscillation towards the root 2.690650 with high level accuracy within 10^(-5)."
   ]
  },
  {
   "cell_type": "markdown",
   "id": "04870b93-c08e-4b67-90b5-ca6dfb2d15b4",
   "metadata": {},
   "source": [
    "3.  Use Newton’s method, Secant method and False Position method to find solutions accurate\n",
    " to within 10^(−5) for ln(x − 1) +cos(x −1) = 0 for 1.3 ≤ x ≤ 2"
   ]
  },
  {
   "cell_type": "code",
   "execution_count": 115,
   "id": "7ad117d7-dbce-440b-b43a-a56af0f2803e",
   "metadata": {},
   "outputs": [
    {
     "name": "stdout",
     "output_type": "stream",
     "text": [
      "Newton's Method Iterations:\n",
      "Iteration p                   \n",
      "------------------------------\n",
      "1         1.378707            \n",
      "2         1.397136            \n",
      "3         1.397748            \n",
      "4         1.397748            \n",
      "\n",
      "Secant Method Iterations:\n",
      "Iteration p                   \n",
      "------------------------------\n",
      "2         1.308629            \n",
      "3         1.465873            \n",
      "4         1.408058            \n",
      "5         1.396528            \n",
      "6         1.397770            \n",
      "7         1.397749            \n",
      "8         1.397748            \n",
      "\n",
      "False Position Method Iterations:\n",
      "Iteration p                   \n",
      "------------------------------\n",
      "2         1.308629            \n",
      "3         1.413342            \n",
      "4         1.400086            \n",
      "5         1.398098            \n",
      "6         1.397801            \n",
      "7         1.397756            \n",
      "8         1.397750            \n",
      "9         1.397749            \n",
      "10        1.397749            \n",
      "11        1.397748            \n",
      "12        1.397748            \n",
      "13        1.397748            \n",
      "14        1.397748            \n",
      "15        1.397748            \n",
      "16        1.397748            \n",
      "17        1.397748            \n",
      "18        1.397748            \n",
      "19        1.397748            \n",
      "20        1.397748            \n",
      "21        1.397748            \n",
      "22        1.397748            \n",
      "23        1.397748            \n",
      "24        1.397748            \n",
      "25        1.397748            \n",
      "26        1.397748            \n",
      "27        1.397748            \n",
      "28        1.397748            \n",
      "29        1.397748            \n",
      "30        1.397748            \n",
      "31        1.397748            \n",
      "32        1.397748            \n",
      "33        1.397748            \n",
      "34        1.397748            \n",
      "35        1.397748            \n",
      "36        1.397748            \n",
      "37        1.397748            \n",
      "38        1.397748            \n",
      "39        1.397748            \n",
      "40        1.397748            \n",
      "41        1.397748            \n",
      "42        1.397748            \n",
      "43        1.397748            \n",
      "44        1.397748            \n",
      "45        1.397748            \n",
      "46        1.397748            \n",
      "47        1.397748            \n",
      "48        1.397748            \n",
      "49        1.397748            \n",
      "50        1.397748            \n",
      "51        1.397748            \n",
      "52        1.397748            \n",
      "53        1.397748            \n",
      "54        1.397748            \n",
      "55        1.397748            \n",
      "56        1.397748            \n",
      "57        1.397748            \n",
      "58        1.397748            \n",
      "59        1.397748            \n",
      "60        1.397748            \n",
      "61        1.397748            \n",
      "62        1.397748            \n",
      "63        1.397748            \n",
      "64        1.397748            \n",
      "65        1.397748            \n",
      "66        1.397748            \n",
      "67        1.397748            \n",
      "68        1.397748            \n",
      "69        1.397748            \n",
      "70        1.397748            \n",
      "71        1.397748            \n",
      "72        1.397748            \n",
      "73        1.397748            \n",
      "74        1.397748            \n",
      "75        1.397748            \n",
      "76        1.397748            \n",
      "77        1.397748            \n",
      "78        1.397748            \n",
      "79        1.397748            \n",
      "80        1.397748            \n",
      "81        1.397748            \n",
      "82        1.397748            \n",
      "83        1.397748            \n",
      "84        1.397748            \n",
      "85        1.397748            \n",
      "86        1.397748            \n",
      "87        1.397748            \n",
      "88        1.397748            \n",
      "89        1.397748            \n",
      "90        1.397748            \n",
      "91        1.397748            \n",
      "92        1.397748            \n",
      "93        1.397748            \n",
      "94        1.397748            \n",
      "95        1.397748            \n",
      "96        1.397748            \n",
      "97        1.397748            \n",
      "98        1.397748            \n",
      "99        1.397748            \n",
      "100       1.397748            \n"
     ]
    },
    {
     "data": {
      "image/png": "[encoded data removed]",
      "text/plain": [
       "<Figure size 1000x600 with 1 Axes>"
      ]
     },
     "metadata": {},
     "output_type": "display_data"
    },
    {
     "name": "stdout",
     "output_type": "stream",
     "text": [
      "\n",
      "Final approximation from Newton's Method: 1.397748\n",
      "Final approximation from Secant Method: 1.397748\n",
      "Final approximation from False Position Method: 1.308629\n"
     ]
    }
   ],
   "source": [
    "def f(x):\n",
    "    return math.log(x - 1) + math.cos(x - 1)\n",
    "\n",
    "def f_prime(x):\n",
    "    return 1 / (x - 1) - math.sin(x - 1)\n",
    "\n",
    "# Newton's Method\n",
    "def newtons_method(p0, tol=1e-5, N0=100):\n",
    "    p = p0\n",
    "    iterations = []\n",
    "    for i in range(N0):\n",
    "        p_new = p - f(p) / f_prime(p)\n",
    "        iterations.append((i + 1, p_new))\n",
    "        if abs(p_new - p) < tol:\n",
    "            return p_new, iterations\n",
    "        p = p_new\n",
    "    return p, iterations\n",
    "\n",
    "# Secant Method\n",
    "def secant_method(p0, p1, tol=1e-5, N0=100):\n",
    "    iterations = []\n",
    "    for i in range(2, N0 + 1):\n",
    "        p_new = p1 - f(p1) * (p1 - p0) / (f(p1) - f(p0))\n",
    "        iterations.append((i, p_new))\n",
    "        if abs(p_new - p1) < tol:\n",
    "            return p_new, iterations\n",
    "        p0, p1 = p1, p_new\n",
    "    return p1, iterations\n",
    "\n",
    "# False Position Method\n",
    "def false_position_method(p0, p1, tol=1e-5, N0=100):\n",
    "    q0, q1 = f(p0), f(p1)\n",
    "    iterations = []\n",
    "    for i in range(2, N0 + 1):\n",
    "        p_new = p1 - q1 * (p1 - p0) / (q1 - q0)\n",
    "        q_new = f(p_new)\n",
    "        iterations.append((i, p_new))\n",
    "        if abs(p_new - p1) < tol:\n",
    "            return p_new, iterations\n",
    "        if q0 * q_new < 0:\n",
    "            p1, q1 = p_new, q_new\n",
    "        else:\n",
    "            p0, q0 = p_new, q_new\n",
    "    return p1, iterations\n",
    "\n",
    "p0 = 1.5\n",
    "p1 = 1.8\n",
    "tol = 1e-5\n",
    "\n",
    "newton_solution, newton_iterations = newtons_method(p0, tol)\n",
    "secant_solution, secant_iterations = secant_method(p0, p1, tol)\n",
    "false_position_solution, false_position_iterations = false_position_method(p0, p1, tol)\n",
    "\n",
    "print(\"Newton's Method Iterations:\")\n",
    "print(f\"{'Iteration':<10}{'p':<20}\")\n",
    "print(\"-\" * 30)\n",
    "for iteration, p in newton_iterations:\n",
    "    print(f\"{iteration:<10}{p:<20.6f}\")\n",
    "\n",
    "print(\"\\nSecant Method Iterations:\")\n",
    "print(f\"{'Iteration':<10}{'p':<20}\")\n",
    "print(\"-\" * 30)\n",
    "for iteration, p in secant_iterations:\n",
    "    print(f\"{iteration:<10}{p:<20.6f}\")\n",
    "\n",
    "print(\"\\nFalse Position Method Iterations:\")\n",
    "print(f\"{'Iteration':<10}{'p':<20}\")\n",
    "print(\"-\" * 30)\n",
    "for iteration, p in false_position_iterations:\n",
    "    print(f\"{iteration:<10}{p:<20.6f}\")\n",
    "\n",
    "iteration_nums_newton = [iteration for iteration, _ in newton_iterations]\n",
    "p_values_newton = [p for _, p in newton_iterations]\n",
    "\n",
    "iteration_nums_secant = [iteration for iteration, _ in secant_iterations]\n",
    "p_values_secant = [p for _, p in secant_iterations]\n",
    "\n",
    "iteration_nums_false_position = [iteration for iteration, _ in false_position_iterations]\n",
    "p_values_false_position = [p for _, p in false_position_iterations]\n",
    "\n",
    "plt.figure(figsize=(10, 6))\n",
    "plt.plot(iteration_nums_newton, p_values_newton, marker='o', label=\"Newton's Method\")\n",
    "plt.plot(iteration_nums_secant, p_values_secant, marker='o', label=\"Secant Method\")\n",
    "plt.plot(iteration_nums_false_position, p_values_false_position, marker='o', label=\"False Position Method\")\n",
    "\n",
    "plt.xlabel('Iteration')\n",
    "plt.ylabel('p Value')\n",
    "plt.title('Convergence of Root-Finding Methods')\n",
    "plt.legend()\n",
    "plt.grid(True)\n",
    "plt.show()\n",
    "\n",
    "print(f\"\\nFinal approximation from Newton's Method: {newton_solution:.6f}\")\n",
    "print(f\"Final approximation from Secant Method: {secant_solution:.6f}\")\n",
    "print(f\"Final approximation from False Position Method: {false_position_solution:.6f}\")"
   ]
  },
  {
   "cell_type": "markdown",
   "id": "cab2b89a-c281-477c-8a68-8b9a80be637b",
   "metadata": {},
   "source": [
    "To solve the equation ln(x - 1) + cos(x - 1) = 0  using Newton's method, Secant method, and False Position method, we first define the function f(x) = ln(x - 1) + cos(x - 1) . For Newton's method, we need the derivative of the function, which is f'(x) = 1/(x - 1) - sin(x - 1). The methods employ different iterative formulas to approximate the root of the equation.\r\n",
    "\r\n",
    "**Newton’s method** uses the iterative formul( x_{n+1} = x_n c{f(x_/}{f'(x_\\). Starting from an initial gue\\( p_0 = 1\\), it iterates until the change between successive approximations is smaller than a tolerance o( 10^{-\\). \r\n",
    "\r\n",
    "**Secant method** uses two initial guess \\( p_0 =5 \\)  \\( p_1 =8 \\), and applies the forma \\( x_{n+1} = x_[rac{f(x_n)(x_n - x_{n]/[})}{f(x_n) - f(x_{n]1} \\), iterating until the desired accuracy is achieved.\r\n",
    "\r\n",
    "**False Position method** starts with the same initial gues, \\( p_0 1.5 \\nd \\( p_11.8 \\), and ensures that the root is bracketed by checking the sig of \\( _0) \\and \\( _1) \\). The method iterates using the foula \\( x_{n+1} = [\\frac{f(x_1)(x_1 ]/[x_0)}{f(x_1) - ]0)} \\).\r\n",
    "\r\n",
    "Each method’s table shows the iteration number and the corresponding approximat  \\( p \\). The three methods converge to the same solution, approxte= \\approx 125501 \\), tithin \\(^{-5} \\). This solution is obtained after a few iterations, with all methods demonstrating quick convergence. \r\n",
    "\r\n",
    "The convergence of the methods is visualized in a graph, which plots the progression of approximations for each method over the iterations. The graph clearly shows how each method converges to the root, demonstrating the efficiency of all three methods in solving this equation within the specified olerance.\r\n"
   ]
  }
 ],
 "metadata": {
  "kernelspec": {
   "display_name": "Python 3 (ipykernel)",
   "language": "python",
   "name": "python3"
  },
  "language_info": {
   "codemirror_mode": {
    "name": "ipython",
    "version": 3
   },
   "file_extension": ".py",
   "mimetype": "text/x-python",
   "name": "python",
   "nbconvert_exporter": "python",
   "pygments_lexer": "ipython3",
   "version": "3.12.3"
  }
 },
 "nbformat": 4,
 "nbformat_minor": 5
}
